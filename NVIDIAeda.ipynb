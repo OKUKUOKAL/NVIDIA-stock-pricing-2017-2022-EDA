{
 "cells": [
  {
   "cell_type": "code",
   "execution_count": null,
   "metadata": {},
   "outputs": [],
   "source": [
    "# import necessary libraries\n",
    "import os\n",
    "import numpy as np\n",
    "import pandas as pd\n",
    "import matplotlib.pyplot as plt\n",
    "import seaborn as sns\n",
    "import mplfinance as mpf\n",
    "\n"
   ]
  },
  {
   "cell_type": "code",
   "execution_count": null,
   "metadata": {},
   "outputs": [],
   "source": [
    "# load the dataset\n",
    "df = pd.read_csv('C:/Users/Teddy/Documents/NVIDIAstockpricing/NVDA.csv')\n"
   ]
  },
  {
   "cell_type": "code",
   "execution_count": null,
   "metadata": {},
   "outputs": [],
   "source": [
    "# checking a few rows from the dataframe\n",
    "df.head"
   ]
  },
  {
   "cell_type": "code",
   "execution_count": null,
   "metadata": {},
   "outputs": [],
   "source": [
    "# a concise summary of the dataset\n",
    "df.info()"
   ]
  },
  {
   "cell_type": "code",
   "execution_count": null,
   "metadata": {},
   "outputs": [],
   "source": [
    "# calculating the sum of missing values in each column of the dataset\n",
    "df.isnull().sum()\n"
   ]
  },
  {
   "attachments": {},
   "cell_type": "markdown",
   "metadata": {},
   "source": [
    "Correlation between the variables in the data"
   ]
  },
  {
   "cell_type": "code",
   "execution_count": null,
   "metadata": {},
   "outputs": [],
   "source": [
    "correlation_matrix=df.corr()"
   ]
  },
  {
   "cell_type": "code",
   "execution_count": null,
   "metadata": {},
   "outputs": [],
   "source": [
    "# Create a heatmap\n",
    "plt.figure(figsize=(10, 8))\n",
    "sns.heatmap(correlation_matrix, annot=True, cmap='RdYlBu')\n",
    "plt.title('Correlation Heatmap')\n",
    "plt.show()"
   ]
  },
  {
   "attachments": {},
   "cell_type": "markdown",
   "metadata": {},
   "source": [
    "Candlestick Representation of the Nvidia Stocks"
   ]
  },
  {
   "cell_type": "code",
   "execution_count": null,
   "metadata": {},
   "outputs": [],
   "source": [
    "\n",
    "\n",
    "# Convert the 'Date' column to datetime format\n",
    "df['Date'] = pd.to_datetime(df['Date'])\n",
    "\n",
    "# Set the 'Date' column as the index\n",
    "df.set_index('Date', inplace=True)\n",
    "\n",
    "# Create the candlestick chart\n",
    "mpf.plot(df, type='candle', style='yahoo', volume=True)\n",
    "mpf.show()\n"
   ]
  },
  {
   "attachments": {},
   "cell_type": "markdown",
   "metadata": {},
   "source": [
    "Comparison of Oening and Closing Prices"
   ]
  },
  {
   "cell_type": "code",
   "execution_count": null,
   "metadata": {},
   "outputs": [],
   "source": [
    "\n",
    "# Plotting the opening and closing prices as a line plot\n",
    "plt.plot(df.index, df['Open'], label='Opening Price')\n",
    "plt.plot(df.index, df['Close'], label='Closing Price')\n",
    "\n",
    "# Set the x-axis label\n",
    "plt.xlabel('Date')\n",
    "\n",
    "# Set the y-axis label\n",
    "plt.ylabel('Price')\n",
    "\n",
    "# Set the title of the plot\n",
    "plt.title('Comparison of Opening and Closing Prices')\n",
    "\n",
    "# Display the legend\n",
    "plt.legend()\n",
    "\n",
    "# Show the plot\n",
    "plt.show()\n"
   ]
  },
  {
   "attachments": {},
   "cell_type": "markdown",
   "metadata": {},
   "source": [
    "Comparison of Closing and Adjacent closing prices"
   ]
  },
  {
   "cell_type": "code",
   "execution_count": null,
   "metadata": {},
   "outputs": [],
   "source": [
    "\n",
    "# Calculate the adjacent closing price by shifting the 'Close' column\n",
    "df['Adjacent Close'] = df['Close'].shift(1)\n",
    "\n",
    "# Plotting the closing price as a blue line\n",
    "plt.plot(df.index, df['Close'], color='blue', label='Closing Price')\n",
    "\n",
    "# Plotting the adjacent closing price as a red line\n",
    "plt.plot(df.index, df['Adjacent Close'], color='red', label='Adjacent Closing Price')\n",
    "\n",
    "# Set the x-axis label\n",
    "plt.xlabel('Date')\n",
    "\n",
    "# Set the y-axis label\n",
    "plt.ylabel('Price')\n",
    "\n",
    "# Set the title of the plot\n",
    "plt.title('Comparison of Closing and Adjacent Closing Prices')\n",
    "\n",
    "# Display the legend\n",
    "plt.legend()\n",
    "\n",
    "# Show the plot\n",
    "plt.show()\n"
   ]
  },
  {
   "attachments": {},
   "cell_type": "markdown",
   "metadata": {},
   "source": [
    "Comparison between high and low prices"
   ]
  },
  {
   "cell_type": "code",
   "execution_count": null,
   "metadata": {},
   "outputs": [],
   "source": [
    "\n",
    "\n",
    "# Plotting the high and low prices using matplotlib.pyplot\n",
    "plt.plot(df.index, df['High'], color='blue', label='High Price')\n",
    "plt.plot(df.index, df['Low'], color='green', label='Low Price')\n",
    "\n",
    "# Set the x-axis label\n",
    "plt.xlabel('Date')\n",
    "\n",
    "# Set the y-axis label\n",
    "plt.ylabel('Price')\n",
    "\n",
    "# Set the title of the plot\n",
    "plt.title('Comparison of High and Low Prices')\n",
    "\n",
    "# Display the legend\n",
    "plt.legend()\n",
    "\n",
    "# Show the plot\n",
    "plt.show()\n"
   ]
  },
  {
   "attachments": {},
   "cell_type": "markdown",
   "metadata": {},
   "source": [
    "Volume of stocks traded"
   ]
  },
  {
   "cell_type": "code",
   "execution_count": null,
   "metadata": {},
   "outputs": [],
   "source": [
    "\n",
    "# Plotting the volume of stocks traded as a line plot\n",
    "plt.plot(df.index, df['Volume'], color='blue')\n",
    "\n",
    "# Set the x-axis label\n",
    "plt.xlabel('Date')\n",
    "\n",
    "# Set the y-axis label\n",
    "plt.ylabel('Volume')\n",
    "\n",
    "# Set the title of the plot\n",
    "plt.title('Volume of Stocks Traded')\n",
    "\n",
    "# Display the plot\n",
    "plt.show()\n"
   ]
  }
 ],
 "metadata": {
  "kernelspec": {
   "display_name": "Python 3",
   "language": "python",
   "name": "python3"
  },
  "language_info": {
   "codemirror_mode": {
    "name": "ipython",
    "version": 3
   },
   "file_extension": ".py",
   "mimetype": "text/x-python",
   "name": "python",
   "nbconvert_exporter": "python",
   "pygments_lexer": "ipython3",
   "version": "3.11.1"
  },
  "orig_nbformat": 4
 },
 "nbformat": 4,
 "nbformat_minor": 2
}
